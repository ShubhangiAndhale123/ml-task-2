{
 "cells": [
  {
   "cell_type": "code",
   "execution_count": null,
   "metadata": {},
   "outputs": [],
   "source": [
    "import streamlit as st\n",
    "import pickle\n",
    "import pandas as pd"
   ]
  },
  {
   "cell_type": "code",
   "execution_count": null,
   "metadata": {},
   "outputs": [],
   "source": [
    "teams = ['Sunrisers Hyderabad',\n",
    " 'Mumbai Indians',\n",
    " 'Royal Challengers Bangalore',\n",
    " 'Kolkata Knight Riders',\n",
    " 'Kings XI Punjab',\n",
    " 'Chennai Super Kings',\n",
    " 'Rajasthan Royals',\n",
    " 'Delhi Capitals']"
   ]
  },
  {
   "cell_type": "code",
   "execution_count": null,
   "metadata": {},
   "outputs": [],
   "source": [
    "cities = ['Hyderabad', 'Bangalore', 'Mumbai', 'Indore', 'Kolkata', 'Delhi',\n",
    "       'Chandigarh', 'Jaipur', 'Chennai', 'Cape Town', 'Port Elizabeth',\n",
    "       'Durban', 'Centurion', 'East London', 'Johannesburg', 'Kimberley',\n",
    "       'Bloemfontein', 'Ahmedabad', 'Cuttack', 'Nagpur', 'Dharamsala',\n",
    "       'Visakhapatnam', 'Pune', 'Raipur', 'Ranchi', 'Abu Dhabi',\n",
    "       'Sharjah', 'Mohali', 'Bengaluru']\n"
   ]
  },
  {
   "cell_type": "code",
   "execution_count": null,
   "metadata": {},
   "outputs": [],
   "source": [
    "pipe = pickle.load(open('pipe.pkl','rb'))\n",
    "st.title('IPL Win Predictor')"
   ]
  },
  {
   "cell_type": "code",
   "execution_count": null,
   "metadata": {},
   "outputs": [],
   "source": [
    "col1, col2 = st.beta_columns(2)"
   ]
  },
  {
   "cell_type": "code",
   "execution_count": null,
   "metadata": {},
   "outputs": [],
   "source": [
    "with col1:\n",
    "    batting_team = st.selectbox('Select the batting team',sorted(teams))\n",
    "with col2:\n",
    "    bowling_team = st.selectbox('Select the bowling team',sorted(teams))\n"
   ]
  },
  {
   "cell_type": "code",
   "execution_count": null,
   "metadata": {},
   "outputs": [],
   "source": [
    "selected_city = st.selectbox('Select host city',sorted(cities))"
   ]
  },
  {
   "cell_type": "code",
   "execution_count": null,
   "metadata": {},
   "outputs": [],
   "source": [
    "target = st.number_input('Target')"
   ]
  },
  {
   "cell_type": "code",
   "execution_count": null,
   "metadata": {},
   "outputs": [],
   "source": [
    "col3,col4,col5 = st.beta_columns(3)"
   ]
  },
  {
   "cell_type": "code",
   "execution_count": null,
   "metadata": {},
   "outputs": [],
   "source": [
    "with col3:\n",
    "    score = st.number_input('Score')\n",
    "with col4:\n",
    "    overs = st.number_input('Overs completed')\n",
    "with col5:\n",
    "    wickets = st.number_input('Wickets out')"
   ]
  },
  {
   "cell_type": "code",
   "execution_count": null,
   "metadata": {},
   "outputs": [],
   "source": [
    "if st.button('Predict Probability'):\n",
    "    runs_left = target - score\n",
    "    balls_left = 120 - (overs*6)\n",
    "    wickets = 10 - wickets\n",
    "    crr = score/overs\n",
    "    rrr = (runs_left*6)/balls_left\n"
   ]
  },
  {
   "cell_type": "code",
   "execution_count": null,
   "metadata": {},
   "outputs": [],
   "source": [
    "input_df = pd.DataFrame({'batting_team':[batting_team],'bowling_team':[bowling_team],'city':[selected_city],'runs_left':[runs_left],'balls_left':[balls_left],'wickets':[wickets],'total_runs_x':[target],'crr':[crr],'rrr':[rrr]})"
   ]
  },
  {
   "cell_type": "code",
   "execution_count": null,
   "metadata": {},
   "outputs": [],
   "source": [
    "result = pipe.predict_proba(input_df)\n",
    "    loss = result[0][0]\n",
    "    win = result[0][1]\n",
    "    st.header(batting_team + \"- \" + str(round(win*100)) + \"%\")\n",
    "    st.header(bowling_team + \"- \" + str(round(loss*100)) + \"%\")"
   ]
  }
 ],
 "metadata": {
  "kernelspec": {
   "display_name": "Python 3",
   "language": "python",
   "name": "python3"
  },
  "language_info": {
   "codemirror_mode": {
    "name": "ipython",
    "version": 3
   },
   "file_extension": ".py",
   "mimetype": "text/x-python",
   "name": "python",
   "nbconvert_exporter": "python",
   "pygments_lexer": "ipython3",
   "version": "3.12.4"
  }
 },
 "nbformat": 4,
 "nbformat_minor": 2
}
